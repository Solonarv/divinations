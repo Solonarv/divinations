{
 "cells": [
  {
   "cell_type": "markdown",
   "metadata": {},
   "source": [
    "# IGNORE THIS\n",
    "\n",
    "This is a textbook example of a [Poisson point process](https://en.wikipedia.org/wiki/Poisson_point_process) specifically the spatial (2D) variant."
   ]
  },
  {
   "cell_type": "code",
   "execution_count": 1,
   "metadata": {},
   "outputs": [
    {
     "name": "stdout",
     "output_type": "stream",
     "text": [
      "Populating the interactive namespace from numpy and matplotlib\n"
     ]
    }
   ],
   "source": [
    "import numpy as np\n",
    "import matplotlib.pyplot as plt\n",
    "%pylab inline"
   ]
  },
  {
   "cell_type": "code",
   "execution_count": 31,
   "metadata": {},
   "outputs": [
    {
     "data": {
      "text/plain": [
       "Text(0,0.5,'# points')"
      ]
     },
     "execution_count": 31,
     "metadata": {},
     "output_type": "execute_result"
    },
    {
     "data": {
      "image/png": "[encoded data removed]",
      "text/plain": [
       "<matplotlib.figure.Figure at 0x7fee99ae39e8>"
      ]
     },
     "metadata": {},
     "output_type": "display_data"
    }
   ],
   "source": [
    "# generate some points\n",
    "points = np.random.rand(10000,2)\n",
    "\n",
    "sizes = np.logspace(-5, 0, base=2)\n",
    "areas = sizes**2\n",
    "counts = np.array([np.sum(np.all(points < size, axis=1)) for size in sizes])\n",
    "\n",
    "plt.subplot()\n",
    "plt.scatter(areas, counts)\n",
    "plt.xlabel(\"area\")\n",
    "plt.ylabel(\"# points\")"
   ]
  },
  {
   "cell_type": "code",
   "execution_count": 61,
   "metadata": {},
   "outputs": [],
   "source": [
    "dist=2**-3\n",
    "ticks = np.arange(0,1,dist)\n",
    "counts = np.array([np.sum(np.logical_and(points >= (x,y), points < (x+dist,y+dist))) for x in ticks for y in ticks])\n"
   ]
  },
  {
   "cell_type": "code",
   "execution_count": 62,
   "metadata": {},
   "outputs": [
    {
     "name": "stdout",
     "output_type": "stream",
     "text": [
      "\n",
      "area = 0.015625 = 1/64.0\n",
      "mean = 2500.0\n",
      "stddev = 43.13061557640929\n",
      "err = 5.391326947051161\n",
      "\n",
      "stddev * 4th root of area = 121.99180300331656\n",
      "\n"
     ]
    },
    {
     "data": {
      "image/png": "[encoded data removed]",
      "text/plain": [
       "<matplotlib.figure.Figure at 0x7fee997294a8>"
      ]
     },
     "metadata": {},
     "output_type": "display_data"
    }
   ],
   "source": [
    "plt.subplot()\n",
    "plt.hist(counts, bins=40)\n",
    "print(f\"\"\"\n",
    "area = {dist**2} = 1/{1/dist**2}\n",
    "mean = {counts.mean()}\n",
    "stddev = {counts.std()}\n",
    "err = {counts.std() / np.sqrt(len(counts))}\n",
    "\n",
    "stddev * 4th root of area = {counts.std() / (dist**0.5)}\n",
    "\"\"\")"
   ]
  },
  {
   "cell_type": "markdown",
   "metadata": {},
   "source": [
    "Results:\n",
    "\n",
    " - mean is precisely as expected, point_density * area\n",
    " - stddev proportional to 4th root of area... or is it??\n",
    "   - needs more investigation\n",
    " - results look normally distributed"
   ]
  }
 ],
 "metadata": {
  "kernelspec": {
   "display_name": "Python 3",
   "language": "python",
   "name": "python3"
  },
  "language_info": {
   "codemirror_mode": {
    "name": "ipython",
    "version": 3
   },
   "file_extension": ".py",
   "mimetype": "text/x-python",
   "name": "python",
   "nbconvert_exporter": "python",
   "pygments_lexer": "ipython3",
   "version": "3.6.8"
  }
 },
 "nbformat": 4,
 "nbformat_minor": 2
}
